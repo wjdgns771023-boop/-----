{
  "nbformat": 4,
  "nbformat_minor": 0,
  "metadata": {
    "colab": {
      "provenance": [],
      "toc_visible": true,
      "authorship_tag": "ABX9TyNUb82lcaGFzWnReiJlFqbq",
      "include_colab_link": true
    },
    "kernelspec": {
      "name": "python3",
      "display_name": "Python 3"
    },
    "language_info": {
      "name": "python"
    }
  },
  "cells": [
    {
      "cell_type": "markdown",
      "metadata": {
        "id": "view-in-github",
        "colab_type": "text"
      },
      "source": [
        "<a href=\"https://colab.research.google.com/github/wjdgns771023-boop/-----/blob/main/income_tax_calculator.ipynb\" target=\"_parent\"><img src=\"https://colab.research.google.com/assets/colab-badge.svg\" alt=\"Open In Colab\"/></a>"
      ]
    },
    {
      "cell_type": "code",
      "execution_count": null,
      "metadata": {
        "id": "-MiQJpreKHDA"
      },
      "outputs": [],
      "source": [
        "import streamlit as st\n",
        "\n",
        "st.set_page_config(page_title=\"소득·세금 계산기\", page_icon=\"💰\", layout=\"centered\")\n",
        "\n",
        "st.title(\"💰 소득·세금 계산기\")\n",
        "st.caption(\"조건: 저소득 5%, 중간소득 25%, 고소득 50% (단위: 만원)\")\n",
        "\n",
        "# 입력\n",
        "income = st.number_input(\"소득을 입력하세요 (만원)\", min_value=0, step=50, value=3500)\n",
        "\n",
        "# 분류 & 세금 계산\n",
        "if income <= 1000:\n",
        "    tax = income * 0.05\n",
        "    level = \"저소득층\"\n",
        "elif income <= 3000:\n",
        "    tax = income * 0.25   # 중간소득 25%\n",
        "    level = \"중간소득층\"\n",
        "else:\n",
        "    tax = income * 0.50   # 고소득 50%\n",
        "    level = \"고소득층\"\n",
        "\n",
        "# 결과 표시\n",
        "st.subheader(\"결과\")\n",
        "st.metric(\"소득\", f\"{income:,.0f} 만원\")\n",
        "st.metric(\"세금\", f\"{tax:,.1f} 만원\")\n",
        "st.metric(\"소득 수준\", level)\n",
        "\n",
        "# 참고: 계산식 표시(선택)\n",
        "with st.expander(\"계산 기준 보기\"):\n",
        "    st.write(\"\"\"\n",
        "- **저소득층(≤ 1,000만원)**: 세율 5%\n",
        "- **중간소득층(≤ 3,000만원)**: 세율 25%\n",
        "- **고소득층(> 3,000만원)**: 세율 50%\n",
        "\"\"\")\n"
      ]
    }
  ]
}